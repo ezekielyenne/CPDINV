{
  "nbformat": 4,
  "nbformat_minor": 0,
  "metadata": {
    "colab": {
      "provenance": [],
      "toc_visible": true,
      "authorship_tag": "ABX9TyNDHzDCWsvFUrby3DEeNiji",
      "include_colab_link": true
    },
    "kernelspec": {
      "name": "python3",
      "display_name": "Python 3"
    },
    "language_info": {
      "name": "python"
    }
  },
  "cells": [
    {
      "cell_type": "markdown",
      "metadata": {
        "id": "view-in-github",
        "colab_type": "text"
      },
      "source": [
        "<a href=\"https://colab.research.google.com/github/ezekielyenne/CPDINV/blob/main/Test.ipynb\" target=\"_parent\"><img src=\"https://colab.research.google.com/assets/colab-badge.svg\" alt=\"Open In Colab\"/></a>"
      ]
    },
    {
      "cell_type": "code",
      "execution_count": 4,
      "metadata": {
        "colab": {
          "base_uri": "https://localhost:8080/"
        },
        "id": "Mu5iGnSS2wEK",
        "outputId": "aab08a9c-680c-46e6-a067-9b0a66b9e9e9"
      },
      "outputs": [
        {
          "output_type": "stream",
          "name": "stdout",
          "text": [
            "[1, 4, 5, 6, 7, 8, 9, 10, 11, 12]\n"
          ]
        }
      ],
      "source": [
        "def generate_series(n):\n",
        "    current_number = 1\n",
        "    series = [current_number]\n",
        "\n",
        "    for i in range(1, n):\n",
        "        current_number = i + 3\n",
        "        series.append(current_number)\n",
        "\n",
        "    return series\n",
        "\n",
        "# Example: Generate a series of 10 numbers\n",
        "series_length = 10\n",
        "result = generate_series(series_length)\n",
        "print(result)"
      ]
    }
  ]
}