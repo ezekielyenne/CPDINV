{
  "nbformat": 4,
  "nbformat_minor": 0,
  "metadata": {
    "colab": {
      "provenance": [],
      "authorship_tag": "ABX9TyNk8oDmp3EZK62dUDhfEi9i",
      "include_colab_link": true
    },
    "kernelspec": {
      "name": "python3",
      "display_name": "Python 3"
    },
    "language_info": {
      "name": "python"
    }
  },
  "cells": [
    {
      "cell_type": "markdown",
      "metadata": {
        "id": "view-in-github",
        "colab_type": "text"
      },
      "source": [
        "<a href=\"https://colab.research.google.com/github/ezekielyenne/CPDINV/blob/main/Personal_study.ipynb\" target=\"_parent\"><img src=\"https://colab.research.google.com/assets/colab-badge.svg\" alt=\"Open In Colab\"/></a>"
      ]
    },
    {
      "cell_type": "code",
      "execution_count": 8,
      "metadata": {
        "id": "NelCnvjQl6Le"
      },
      "outputs": [],
      "source": [
        "import numpy as np"
      ]
    },
    {
      "cell_type": "code",
      "source": [
        "arr=np.array([[-1,2,0,-4],[4,-0.5,6,0],[2.6,0,7,8],[3,-7,4,2.0]])\n",
        "print(arr)"
      ],
      "metadata": {
        "colab": {
          "base_uri": "https://localhost:8080/"
        },
        "id": "rDtc1Tc7wHXE",
        "outputId": "0f6d6ee7-bb7f-4ed4-9c1a-ad7ca5ec89c6"
      },
      "execution_count": 10,
      "outputs": [
        {
          "output_type": "stream",
          "name": "stdout",
          "text": [
            "[[-1.   2.   0.  -4. ]\n",
            " [ 4.  -0.5  6.   0. ]\n",
            " [ 2.6  0.   7.   8. ]\n",
            " [ 3.  -7.   4.   2. ]]\n"
          ]
        }
      ]
    },
    {
      "cell_type": "markdown",
      "source": [],
      "metadata": {
        "id": "1Y4ghppzwGNQ"
      }
    },
    {
      "cell_type": "code",
      "source": [
        "temp=arr[:2, ::2]\n",
        "print (temp)"
      ],
      "metadata": {
        "colab": {
          "base_uri": "https://localhost:8080/"
        },
        "id": "-PjUN4anwGj2",
        "outputId": "af9c1267-6f29-40de-b099-b92d05e7ac99"
      },
      "execution_count": 12,
      "outputs": [
        {
          "output_type": "stream",
          "name": "stdout",
          "text": [
            "[[-1.  0.]\n",
            " [ 4.  6.]]\n"
          ]
        }
      ]
    },
    {
      "cell_type": "code",
      "source": [
        "temp =arr[[0,1,2,3],[3,2,1,0]]"
      ],
      "metadata": {
        "id": "29Q_WDPEx3Ah"
      },
      "execution_count": 22,
      "outputs": []
    },
    {
      "cell_type": "code",
      "source": [
        "temp2=arr[0:2,0:2]\n",
        "print(temp2)"
      ],
      "metadata": {
        "colab": {
          "base_uri": "https://localhost:8080/"
        },
        "id": "1ATDFU41wqkq",
        "outputId": "b76d471f-efae-4604-a444-11b197808ab7"
      },
      "execution_count": 23,
      "outputs": [
        {
          "output_type": "stream",
          "name": "stdout",
          "text": [
            "[[-1.   2. ]\n",
            " [ 4.  -0.5]]\n"
          ]
        }
      ]
    },
    {
      "cell_type": "code",
      "source": [
        "cond = arrv > 0\n",
        "temp =arr[cond]\n",
        "print temp"
      ],
      "metadata": {
        "colab": {
          "base_uri": "https://localhost:8080/",
          "height": 140
        },
        "id": "QVrkRmNdxXMO",
        "outputId": "f1ccaf91-0dc6-4514-8bfe-f76e525e9409"
      },
      "execution_count": 24,
      "outputs": [
        {
          "output_type": "error",
          "ename": "SyntaxError",
          "evalue": "ignored",
          "traceback": [
            "\u001b[0;36m  File \u001b[0;32m\"<ipython-input-24-a129c0afcd5a>\"\u001b[0;36m, line \u001b[0;32m3\u001b[0m\n\u001b[0;31m    print temp\u001b[0m\n\u001b[0m    ^\u001b[0m\n\u001b[0;31mSyntaxError\u001b[0m\u001b[0;31m:\u001b[0m Missing parentheses in call to 'print'. Did you mean print(...)?\n"
          ]
        }
      ]
    },
    {
      "cell_type": "code",
      "source": [],
      "metadata": {
        "id": "XKelqGxoxXX4"
      },
      "execution_count": null,
      "outputs": []
    }
  ]
}